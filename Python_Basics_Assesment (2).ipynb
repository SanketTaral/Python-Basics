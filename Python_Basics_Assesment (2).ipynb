{
  "nbformat": 4,
  "nbformat_minor": 0,
  "metadata": {
    "colab": {
      "provenance": []
    },
    "kernelspec": {
      "name": "python3",
      "display_name": "Python 3"
    },
    "language_info": {
      "name": "python"
    }
  },
  "cells": [
    {
      "cell_type": "code",
      "execution_count": null,
      "metadata": {
        "id": "d_41W3JvnB_X"
      },
      "outputs": [],
      "source": []
    },
    {
      "cell_type": "markdown",
      "source": [
        "Python Basics"
      ],
      "metadata": {
        "id": "oEV3oQALmgZ4"
      }
    },
    {
      "cell_type": "markdown",
      "source": [
        "Q.1) What is Python, and why is it popular?\n",
        "\n",
        "Answer :- Python is a programming language that is easy to read and write. It's like giving instructions to a computer in a way that is simple and clear, much like how we communicate in everyday language."
      ],
      "metadata": {
        "id": "e1_2orXpnlyJ"
      }
    },
    {
      "cell_type": "markdown",
      "source": [],
      "metadata": {
        "id": "JwjdWqQVoKpD"
      }
    },
    {
      "cell_type": "markdown",
      "source": [
        "Q,2) What is an interpreter in Python?\n",
        "\n",
        "Answer :- An interpreter in Python is a program that reads and runs Python code line by line. When you write a Python script, the interpreter takes each line of your code, processes it, and then executes the instructions.\n",
        "\n"
      ],
      "metadata": {
        "id": "qjXou4dLoOlO"
      }
    },
    {
      "cell_type": "markdown",
      "source": [],
      "metadata": {
        "id": "LOWg1c6znrIW"
      }
    },
    {
      "cell_type": "markdown",
      "source": [
        "Q.3)  What are pre-defined keywords in Python?\n",
        "\n",
        "Answer :- Pre defined keywords are special words that have a specific meaning and function in the language. These keywords cannot be used as variable names, function names, or any other identifiers because they are reserved for the language’s syntax."
      ],
      "metadata": {
        "id": "WqomIZ-Sohak"
      }
    },
    {
      "cell_type": "markdown",
      "source": [
        "Q.4)  Can keywords be used as variable names?\n",
        "\n",
        "Answer :- No, keywords in Python cannot be used as variable names.\n"
      ],
      "metadata": {
        "id": "j0pEZ2e7pEkA"
      }
    },
    {
      "cell_type": "markdown",
      "source": [
        "Q.5) What is mutability in Python?\n",
        "\n",
        "Answer :- Mutability in Python refers to whether an object’s value can be changed after it is created. Examples of mutable objects in Python: Lists, Dictionaries, Sets"
      ],
      "metadata": {
        "id": "--XOB524pVdi"
      }
    },
    {
      "cell_type": "markdown",
      "source": [
        "Q.6) Why are lists mutable, but tuples are immutable?\n",
        "\n",
        "Answer :- Lists are mutable because they are designed for situations where you need a flexible collection that may change over time.\n",
        "\n",
        "Tuples are immutable to provide safety, ensure data integrity, optimize performance, and allow hashing for use as dictionary keys or in sets."
      ],
      "metadata": {
        "id": "5tOV9y6Ypwvm"
      }
    },
    {
      "cell_type": "markdown",
      "source": [
        "Q.7) What is the difference between “==” and “is” operators in Python?\n",
        "\n",
        "Answer:- Use \"==\" when you want to compare the values of two objects.\n",
        "\n",
        "Use is when you want to check if two variables refer to the same object in memory."
      ],
      "metadata": {
        "id": "MZEBqn2fqJcu"
      }
    },
    {
      "cell_type": "markdown",
      "source": [
        "Q.8)  What are logical operators in Python?\n",
        "\n",
        "Answer :- logical operators are used to perform logical operations on Boolean values (True or False). They are essential for making decisions and combining multiple conditions in control flow statements (like if, while, etc.)."
      ],
      "metadata": {
        "id": "fxLVjn5jqlou"
      }
    },
    {
      "cell_type": "markdown",
      "source": [
        "Q.9) What is type casting in Python?\n",
        "\n",
        "Answer:- Type casting in Python refers to the process of converting one data type to another. In Python, you can convert between types, such as from an integer to a float, from a string to an integer, or from a list to a tuple, and vice versa."
      ],
      "metadata": {
        "id": "TxZGuWo5q4Ak"
      }
    },
    {
      "cell_type": "markdown",
      "source": [
        "Q.10) What is the difference between implicit and explicit type casting?\n",
        "\n",
        "Answer :- Implicit Type Casting: Python automatically converts a smaller data type to a larger one to avoid data loss (e.g., int to float).\n",
        "\n",
        "Explicit Type Casting: The programmer manually converts between types using functions like int(), float(), and str()."
      ],
      "metadata": {
        "id": "uBvyiWs-rI-r"
      }
    },
    {
      "cell_type": "markdown",
      "source": [
        "Q.11) What is the purpose of conditional statements in Python?\n",
        "\n",
        "Answer :- Conditional statements in Python are used to execute certain blocks of code based on whether a condition is True or False. They allow a program to make decisions and follow different paths of execution based on various conditions."
      ],
      "metadata": {
        "id": "dFqzCPeHrcro"
      }
    },
    {
      "cell_type": "markdown",
      "source": [
        "Q.12) How does the elif statement work?\n",
        "\n",
        "Answer :- The elif statement in Python stands for \"else if\", and it is used to check multiple conditions in sequence after an initial if statement. It allows you to specify additional conditions to be checked if the initial if condition is False. The program will evaluate each condition one by one, and when it finds a condition that is True, it will execute the corresponding block of code."
      ],
      "metadata": {
        "id": "_BY8u9AeroM0"
      }
    },
    {
      "cell_type": "markdown",
      "source": [
        "Q.13) What is the difference between for and while loops?\n",
        "\n",
        "Answer :- for loop is used for iterating over a sequence or when you know the number of iterations in advance.\n",
        "\n",
        "while loop is used when you want to repeat a block of code as long as a condition is true and the number of iterations isn't necessarily known ahead of time."
      ],
      "metadata": {
        "id": "IVXts7uir4Uz"
      }
    },
    {
      "cell_type": "markdown",
      "source": [
        "Q.14)  Describe a scenario where a while loop is more suitable than a for loop?\n",
        "\n",
        "Answer:- A while loop is more suitable than a for loop when you don't know the exact number of iterations ahead of time and want the loop to run until a specific condition becomes false."
      ],
      "metadata": {
        "id": "RP9RkGcPsIEr"
      }
    },
    {
      "cell_type": "code",
      "source": [],
      "metadata": {
        "id": "NvYTgjbKsaIp"
      },
      "execution_count": null,
      "outputs": []
    },
    {
      "cell_type": "markdown",
      "source": [
        "Practical questions"
      ],
      "metadata": {
        "id": "23_VUPJwsiBf"
      }
    },
    {
      "cell_type": "code",
      "source": [
        "#Q.1) Write a Python program to print \"Hello, World!?\n",
        "\n",
        "a = \"Hello World!\"\n",
        "print(a)"
      ],
      "metadata": {
        "colab": {
          "base_uri": "https://localhost:8080/"
        },
        "id": "-oKEYydGsnWa",
        "outputId": "009d4957-09f3-4913-b450-4a942ece290c"
      },
      "execution_count": null,
      "outputs": [
        {
          "output_type": "stream",
          "name": "stdout",
          "text": [
            "Hello World!\n"
          ]
        }
      ]
    },
    {
      "cell_type": "code",
      "source": [
        "#Q.2) Write a Python program that displays your name and age?\n",
        "\n",
        "Name = \"Sanket\"\n",
        "Age = 24\n",
        "print(\"Name :\",Name)\n",
        "print(\"Age :\",Age)"
      ],
      "metadata": {
        "colab": {
          "base_uri": "https://localhost:8080/"
        },
        "id": "_1Cpbt78tgz9",
        "outputId": "b56a55f4-08b8-4a50-c8c2-d440ee5ac6cc"
      },
      "execution_count": null,
      "outputs": [
        {
          "output_type": "stream",
          "name": "stdout",
          "text": [
            "Name : Sanket\n",
            "Age : 24\n"
          ]
        }
      ]
    },
    {
      "cell_type": "code",
      "source": [
        "#Q.3 Write code to print all the pre-defined keywords in Python using the keyword library?\n",
        "\n",
        "import keyword\n",
        "print(keyword.kwlist)"
      ],
      "metadata": {
        "colab": {
          "base_uri": "https://localhost:8080/"
        },
        "id": "D_9WWeDA7iet",
        "outputId": "ff7e7249-75ce-450c-eeb7-c5b20e90b230"
      },
      "execution_count": null,
      "outputs": [
        {
          "output_type": "stream",
          "name": "stdout",
          "text": [
            "['False', 'None', 'True', 'and', 'as', 'assert', 'async', 'await', 'break', 'class', 'continue', 'def', 'del', 'elif', 'else', 'except', 'finally', 'for', 'from', 'global', 'if', 'import', 'in', 'is', 'lambda', 'nonlocal', 'not', 'or', 'pass', 'raise', 'return', 'try', 'while', 'with', 'yield']\n"
          ]
        }
      ]
    },
    {
      "cell_type": "code",
      "source": [
        "#Q.4) Write a program that checks if a given word is a Python keyword ?\n",
        "\n",
        "import keyword\n",
        "\n",
        "# Input: Ask the user for a word\n",
        "word = input(\"Enter a word: \")\n",
        "\n",
        "# Check if the word is a Python keyword\n",
        "if keyword.iskeyword(word):\n",
        "    print(f\"'{word}' is a Python keyword.\")\n",
        "else:\n",
        "    print(f\"'{word}' is not a Python keyword.\")\n"
      ],
      "metadata": {
        "colab": {
          "base_uri": "https://localhost:8080/"
        },
        "id": "vyWwPjDI8Ium",
        "outputId": "b3fa4e25-e415-41a7-a2f1-7a08c52a20da"
      },
      "execution_count": null,
      "outputs": [
        {
          "output_type": "stream",
          "name": "stdout",
          "text": [
            "Enter a word: def\n",
            "'def' is a Python keyword.\n"
          ]
        }
      ]
    },
    {
      "cell_type": "code",
      "source": [
        "#Q.5) 0 Create a list and tuple in Python, and demonstrate how attempting to change an element works differently for each?\n",
        "\n",
        "list = [1,2,3,4]\n",
        "tuple = (1,2,3,4)\n",
        "\n",
        "list[2] = 5 # Changing the third element in the list\n",
        "print(list)\n",
        "\n",
        "tuple[2] = 6\n",
        "print(tuple) # This will raise an error since tuples are immutable"
      ],
      "metadata": {
        "colab": {
          "base_uri": "https://localhost:8080/",
          "height": 211
        },
        "id": "mVt6XoTVuAju",
        "outputId": "1b74aea6-2a94-412a-a057-7f3f986467bb"
      },
      "execution_count": null,
      "outputs": [
        {
          "output_type": "stream",
          "name": "stdout",
          "text": [
            "[1, 2, 5, 4]\n"
          ]
        },
        {
          "output_type": "error",
          "ename": "TypeError",
          "evalue": "'tuple' object does not support item assignment",
          "traceback": [
            "\u001b[0;31m---------------------------------------------------------------------------\u001b[0m",
            "\u001b[0;31mTypeError\u001b[0m                                 Traceback (most recent call last)",
            "\u001b[0;32m<ipython-input-6-9c5631275937>\u001b[0m in \u001b[0;36m<cell line: 0>\u001b[0;34m()\u001b[0m\n\u001b[1;32m      7\u001b[0m \u001b[0mprint\u001b[0m\u001b[0;34m(\u001b[0m\u001b[0mlist\u001b[0m\u001b[0;34m)\u001b[0m\u001b[0;34m\u001b[0m\u001b[0;34m\u001b[0m\u001b[0m\n\u001b[1;32m      8\u001b[0m \u001b[0;34m\u001b[0m\u001b[0m\n\u001b[0;32m----> 9\u001b[0;31m \u001b[0mtuple\u001b[0m\u001b[0;34m[\u001b[0m\u001b[0;36m2\u001b[0m\u001b[0;34m]\u001b[0m \u001b[0;34m=\u001b[0m \u001b[0;36m6\u001b[0m\u001b[0;34m\u001b[0m\u001b[0;34m\u001b[0m\u001b[0m\n\u001b[0m\u001b[1;32m     10\u001b[0m \u001b[0mprint\u001b[0m\u001b[0;34m(\u001b[0m\u001b[0mtuple\u001b[0m\u001b[0;34m)\u001b[0m\u001b[0;34m\u001b[0m\u001b[0;34m\u001b[0m\u001b[0m\n",
            "\u001b[0;31mTypeError\u001b[0m: 'tuple' object does not support item assignment"
          ]
        }
      ]
    },
    {
      "cell_type": "code",
      "source": [
        "#Q.8) Write a program to demonstrate the use of logical operators?\n",
        "\n",
        "\n",
        "# Define some variables\n",
        "x = 10\n",
        "y = 5\n",
        "z = 15\n",
        "\n",
        "# Using 'and' logical operator\n",
        "if x > y and x < z:\n",
        "    print(\"x is greater than y and less than z.\")\n",
        "\n",
        "# Using 'or' logical operator\n",
        "if x > y or y > z:\n",
        "    print(\"Either x is greater than y, or y is greater than z (or both).\")\n",
        "\n",
        "# Using 'not' logical operator\n",
        "if not(x > y):\n",
        "    print(\"x is not greater than y.\")\n",
        "\n",
        "# Combining all logical operators\n",
        "if (x > y and x < z) or (z > x and y > z):\n",
        "    print(\"Complex condition with and, or, and not operators.\")"
      ],
      "metadata": {
        "colab": {
          "base_uri": "https://localhost:8080/"
        },
        "id": "dpoGEuki1vmr",
        "outputId": "2f0a389f-c2d3-47d8-b475-d530de874bb9"
      },
      "execution_count": null,
      "outputs": [
        {
          "output_type": "stream",
          "name": "stdout",
          "text": [
            "x is greater than y and less than z.\n",
            "Either x is greater than y, or y is greater than z (or both).\n",
            "Complex condition with and, or, and not operators.\n"
          ]
        }
      ]
    },
    {
      "cell_type": "code",
      "source": [
        "#Q.11) Write a program that checks if a number is positive, negative, or zero?\n",
        "\n",
        "# Taking input from the user\n",
        "number = float(input(\"Enter a number: \"))\n",
        "\n",
        "# Checking if the number is positive, negative, or zero\n",
        "if number > 0:\n",
        "    print(\"The number is positive.\")\n",
        "elif number < 0:\n",
        "    print(\"The number is negative.\")\n",
        "else:\n",
        "    print(\"The number is zero.\")"
      ],
      "metadata": {
        "colab": {
          "base_uri": "https://localhost:8080/"
        },
        "id": "a_JkW6_Z4TBo",
        "outputId": "73565ba2-212b-4229-c72f-d0b068ebb18c"
      },
      "execution_count": null,
      "outputs": [
        {
          "output_type": "stream",
          "name": "stdout",
          "text": [
            "Enter a number: -15\n",
            "The number is negative.\n"
          ]
        }
      ]
    },
    {
      "cell_type": "code",
      "source": [
        "#Q.12)  Write a for loop to print numbers from 1 to 100\n",
        "\n",
        "for i in range(1,101):\n",
        "    print(i)"
      ],
      "metadata": {
        "colab": {
          "base_uri": "https://localhost:8080/"
        },
        "id": "CC1hYDii4dTH",
        "outputId": "1d4a574b-0ec7-4bbb-d5d0-1c6ec13e8770",
        "collapsed": true
      },
      "execution_count": null,
      "outputs": [
        {
          "output_type": "stream",
          "name": "stdout",
          "text": [
            "1\n",
            "2\n",
            "3\n",
            "4\n",
            "5\n",
            "6\n",
            "7\n",
            "8\n",
            "9\n",
            "10\n",
            "11\n",
            "12\n",
            "13\n",
            "14\n",
            "15\n",
            "16\n",
            "17\n",
            "18\n",
            "19\n",
            "20\n",
            "21\n",
            "22\n",
            "23\n",
            "24\n",
            "25\n",
            "26\n",
            "27\n",
            "28\n",
            "29\n",
            "30\n",
            "31\n",
            "32\n",
            "33\n",
            "34\n",
            "35\n",
            "36\n",
            "37\n",
            "38\n",
            "39\n",
            "40\n",
            "41\n",
            "42\n",
            "43\n",
            "44\n",
            "45\n",
            "46\n",
            "47\n",
            "48\n",
            "49\n",
            "50\n",
            "51\n",
            "52\n",
            "53\n",
            "54\n",
            "55\n",
            "56\n",
            "57\n",
            "58\n",
            "59\n",
            "60\n",
            "61\n",
            "62\n",
            "63\n",
            "64\n",
            "65\n",
            "66\n",
            "67\n",
            "68\n",
            "69\n",
            "70\n",
            "71\n",
            "72\n",
            "73\n",
            "74\n",
            "75\n",
            "76\n",
            "77\n",
            "78\n",
            "79\n",
            "80\n",
            "81\n",
            "82\n",
            "83\n",
            "84\n",
            "85\n",
            "86\n",
            "87\n",
            "88\n",
            "89\n",
            "90\n",
            "91\n",
            "92\n",
            "93\n",
            "94\n",
            "95\n",
            "96\n",
            "97\n",
            "98\n",
            "99\n",
            "100\n"
          ]
        }
      ]
    },
    {
      "cell_type": "code",
      "source": [
        "#Q.13) Write a Python program to find the sum of all even numbers between 1 and 500?\n",
        "\n",
        "for i in range(1,501):\n",
        "    if i % 2 == 0:\n",
        "        print(i)"
      ],
      "metadata": {
        "colab": {
          "base_uri": "https://localhost:8080/"
        },
        "id": "k9FkjI0q5_uK",
        "outputId": "5474f948-b470-4b75-f8ae-c7886baed252",
        "collapsed": true
      },
      "execution_count": null,
      "outputs": [
        {
          "output_type": "stream",
          "name": "stdout",
          "text": [
            "2\n",
            "4\n",
            "6\n",
            "8\n",
            "10\n",
            "12\n",
            "14\n",
            "16\n",
            "18\n",
            "20\n",
            "22\n",
            "24\n",
            "26\n",
            "28\n",
            "30\n",
            "32\n",
            "34\n",
            "36\n",
            "38\n",
            "40\n",
            "42\n",
            "44\n",
            "46\n",
            "48\n",
            "50\n",
            "52\n",
            "54\n",
            "56\n",
            "58\n",
            "60\n",
            "62\n",
            "64\n",
            "66\n",
            "68\n",
            "70\n",
            "72\n",
            "74\n",
            "76\n",
            "78\n",
            "80\n",
            "82\n",
            "84\n",
            "86\n",
            "88\n",
            "90\n",
            "92\n",
            "94\n",
            "96\n",
            "98\n",
            "100\n",
            "102\n",
            "104\n",
            "106\n",
            "108\n",
            "110\n",
            "112\n",
            "114\n",
            "116\n",
            "118\n",
            "120\n",
            "122\n",
            "124\n",
            "126\n",
            "128\n",
            "130\n",
            "132\n",
            "134\n",
            "136\n",
            "138\n",
            "140\n",
            "142\n",
            "144\n",
            "146\n",
            "148\n",
            "150\n",
            "152\n",
            "154\n",
            "156\n",
            "158\n",
            "160\n",
            "162\n",
            "164\n",
            "166\n",
            "168\n",
            "170\n",
            "172\n",
            "174\n",
            "176\n",
            "178\n",
            "180\n",
            "182\n",
            "184\n",
            "186\n",
            "188\n",
            "190\n",
            "192\n",
            "194\n",
            "196\n",
            "198\n",
            "200\n",
            "202\n",
            "204\n",
            "206\n",
            "208\n",
            "210\n",
            "212\n",
            "214\n",
            "216\n",
            "218\n",
            "220\n",
            "222\n",
            "224\n",
            "226\n",
            "228\n",
            "230\n",
            "232\n",
            "234\n",
            "236\n",
            "238\n",
            "240\n",
            "242\n",
            "244\n",
            "246\n",
            "248\n",
            "250\n",
            "252\n",
            "254\n",
            "256\n",
            "258\n",
            "260\n",
            "262\n",
            "264\n",
            "266\n",
            "268\n",
            "270\n",
            "272\n",
            "274\n",
            "276\n",
            "278\n",
            "280\n",
            "282\n",
            "284\n",
            "286\n",
            "288\n",
            "290\n",
            "292\n",
            "294\n",
            "296\n",
            "298\n",
            "300\n",
            "302\n",
            "304\n",
            "306\n",
            "308\n",
            "310\n",
            "312\n",
            "314\n",
            "316\n",
            "318\n",
            "320\n",
            "322\n",
            "324\n",
            "326\n",
            "328\n",
            "330\n",
            "332\n",
            "334\n",
            "336\n",
            "338\n",
            "340\n",
            "342\n",
            "344\n",
            "346\n",
            "348\n",
            "350\n",
            "352\n",
            "354\n",
            "356\n",
            "358\n",
            "360\n",
            "362\n",
            "364\n",
            "366\n",
            "368\n",
            "370\n",
            "372\n",
            "374\n",
            "376\n",
            "378\n",
            "380\n",
            "382\n",
            "384\n",
            "386\n",
            "388\n",
            "390\n",
            "392\n",
            "394\n",
            "396\n",
            "398\n",
            "400\n",
            "402\n",
            "404\n",
            "406\n",
            "408\n",
            "410\n",
            "412\n",
            "414\n",
            "416\n",
            "418\n",
            "420\n",
            "422\n",
            "424\n",
            "426\n",
            "428\n",
            "430\n",
            "432\n",
            "434\n",
            "436\n",
            "438\n",
            "440\n",
            "442\n",
            "444\n",
            "446\n",
            "448\n",
            "450\n",
            "452\n",
            "454\n",
            "456\n",
            "458\n",
            "460\n",
            "462\n",
            "464\n",
            "466\n",
            "468\n",
            "470\n",
            "472\n",
            "474\n",
            "476\n",
            "478\n",
            "480\n",
            "482\n",
            "484\n",
            "486\n",
            "488\n",
            "490\n",
            "492\n",
            "494\n",
            "496\n",
            "498\n",
            "500\n"
          ]
        }
      ]
    }
  ]
}